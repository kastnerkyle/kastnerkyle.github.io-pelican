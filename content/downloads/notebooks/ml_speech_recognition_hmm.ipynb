{
 "metadata": {
  "name": ""
 },
 "nbformat": 3,
 "nbformat_minor": 0,
 "worksheets": [
  {
   "cells": [
    {
     "cell_type": "code",
     "collapsed": false,
     "input": [
      "%matplotlib inline\n",
      "from utils import progress_bar_downloader\n",
      "import os\n",
      "\n",
      "#Hosting files on my dropbox since downloading from google code is painful\n",
      "#Original project hosting is here: https://code.google.com/p/hmm-speech-recognition/downloads/list\n",
      "#Audio is included in the zip file\n",
      "link = 'https://dl.dropboxusercontent.com/u/15378192/audio.tar.gz'\n",
      "dlname = 'audio.tar.gz'\n",
      "\n",
      "#TODO: multispeaker dataset... \n",
      "#link = 'http://www.speech.cs.cmu.edu/databases/an4/an4_raw.littleendian.tar.gz'\n",
      "\n",
      "if not os.path.exists('./%s'%dlname):\n",
      "    progress_bar_downloader(link, dlname)\n",
      "    os.system('tar xzf %s'%dlname)\n",
      "else:\n",
      "    print '%s already downloaded!'%dlname"
     ],
     "language": "python",
     "metadata": {},
     "outputs": [
      {
       "output_type": "stream",
       "stream": "stdout",
       "text": [
        "audio.tar.gz already downloaded!\n"
       ]
      }
     ],
     "prompt_number": 16
    },
    {
     "cell_type": "code",
     "collapsed": false,
     "input": [
      "fpaths = []\n",
      "labels = []\n",
      "for f in os.listdir('audio'):\n",
      "    for w in os.listdir('audio/' + f):\n",
      "        fpaths.append('audio/' + f + '/' + w)\n",
      "        labels.append(f)\n",
      "print 'Words spoken:',set(labels)"
     ],
     "language": "python",
     "metadata": {},
     "outputs": [
      {
       "output_type": "stream",
       "stream": "stdout",
       "text": [
        "Words spoken: set(['kiwi', 'apple', 'peach', 'pineapple', 'orange', 'banana', 'lime'])\n"
       ]
      }
     ],
     "prompt_number": 17
    },
    {
     "cell_type": "code",
     "collapsed": false,
     "input": [
      "#File parsing for multispeaker...\n",
      "#fileids = open('an4/etc/an4_train.fileids').readlines()\n",
      "#fileids = ['an4/wav/' + x.strip() for x in fileids]\n",
      "#transcriptions = open('an4/etc/an4_train.transcription').readlines()\n",
      "#transcriptions = [x.strip() for x in transcriptions]\n",
      "#allowed = ['START', 'STOP', 'GO', 'YES', 'NO', 'HELP', 'REPEAT']\n",
      "#Get filenames matching allowed transcriptions\n",
      "#transcriptions = filter(lambda x: any([y in x for y in allowed]), transcriptions)\n",
      "#labels = [x.split(' ')[1] for x in transcriptions]\n",
      "#fnames = [x.split()[-1][1:-1] for x in transcriptions]\n",
      "#fpaths = filter(lambda x: any([y in x for y in fnames]), fileids)\n",
      "#fpaths = [x + '.raw' for x in fpaths]\n",
      "\n",
      "#Files can be heard in Linux using the following commands from the command line\n",
      "#cat an251-fash-b.raw | aplay -f S16_LE -t raw -r 16000\n",
      "#Files are signed 16 bit raw, sample rate 16kHz\n",
      "#import struct\n",
      "#import numpy as np\n",
      "\n",
      "#data = np.zeros((len(fpaths), 32000))\n",
      "#maxsize = -1\n",
      "#for n,file in enumerate(fpaths):\n",
      "#    d = np.fromfile(file, dtype='<h')\n",
      "#    data[n, :d.shape[0]] = d\n",
      "#    if d.shape[0] > maxsize:\n",
      "#        maxsize = d.shape[0]\n",
      "#data = data[:, :maxsize]"
     ],
     "language": "python",
     "metadata": {},
     "outputs": [],
     "prompt_number": 18
    },
    {
     "cell_type": "code",
     "collapsed": false,
     "input": [
      "#Files can be heard in Linux using the following commands from the command line\n",
      "#cat kiwi07.wav | aplay -f S16_LE -t wav -r 8000\n",
      "#Files are signed 16 bit raw, sample rate 8000\n",
      "from scipy.io import wavfile\n",
      "import numpy as np\n",
      "\n",
      "data = np.zeros((len(fpaths), 32000))\n",
      "maxsize = -1\n",
      "for n,file in enumerate(fpaths):\n",
      "    _, d = wavfile.read(file)\n",
      "    data[n, :d.shape[0]] = d\n",
      "    if d.shape[0] > maxsize:\n",
      "        maxsize = d.shape[0]\n",
      "data = data[:, :maxsize]\n",
      "\n",
      "#Each sample file is one row in data, and has one entry in labels\n",
      "print 'Number of files total:',data.shape[0]\n",
      "label_dict = {}\n",
      "for l in set(labels):\n",
      "    label_dict[l] = np.array([i for i, _ in enumerate(labels) if _ == l])\n",
      "    \n",
      "print 'Labels and label indices',label_dict"
     ],
     "language": "python",
     "metadata": {},
     "outputs": [
      {
       "output_type": "stream",
       "stream": "stdout",
       "text": [
        "Number of files total: 105\n",
        "Labels and label indices {'kiwi': array([ 0,  1,  2,  3,  4,  5,  6,  7,  8,  9, 10, 11, 12, 13, 14]), 'apple': array([15, 16, 17, 18, 19, 20, 21, 22, 23, 24, 25, 26, 27, 28, 29]), 'peach': array([75, 76, 77, 78, 79, 80, 81, 82, 83, 84, 85, 86, 87, 88, 89]), 'pineapple': array([60, 61, 62, 63, 64, 65, 66, 67, 68, 69, 70, 71, 72, 73, 74]), 'orange': array([45, 46, 47, 48, 49, 50, 51, 52, 53, 54, 55, 56, 57, 58, 59]), 'banana': array([30, 31, 32, 33, 34, 35, 36, 37, 38, 39, 40, 41, 42, 43, 44]), 'lime': array([ 90,  91,  92,  93,  94,  95,  96,  97,  98,  99, 100, 101, 102,\n",
        "       103, 104])}\n"
       ]
      }
     ],
     "prompt_number": 19
    },
    {
     "cell_type": "code",
     "collapsed": false,
     "input": [
      "import scipy\n",
      "import numpy as np\n",
      "\n",
      "def stft(x, fftsize=80, overlap_pct=.25):   \n",
      "    #Modified from http://stackoverflow.com/questions/2459295/stft-and-istft-in-python\n",
      "    hop = int(fftsize * (1 - overlap_pct))\n",
      "    w = scipy.hanning(fftsize + 1)[:-1]    \n",
      "    raw = np.array([np.fft.rfft(w * x[i:i + fftsize]) for i in range(0, len(x) - fftsize, hop)])\n",
      "    return raw[:, :fftsize/2]"
     ],
     "language": "python",
     "metadata": {},
     "outputs": [],
     "prompt_number": 20
    },
    {
     "cell_type": "code",
     "collapsed": false,
     "input": [
      "import matplotlib.pyplot as plt\n",
      "plt.plot(data[0, :], color='steelblue')\n",
      "plt.title('Timeseries example for %s'%labels[0])\n",
      "plt.figure()\n",
      "plt.imshow(np.log(np.abs(stft(data[0, :]))), cmap='gray')\n",
      "plt.title('STFT of %s example'%labels[0])"
     ],
     "language": "python",
     "metadata": {},
     "outputs": [
      {
       "metadata": {},
       "output_type": "pyout",
       "prompt_number": 21,
       "text": [
        "<matplotlib.text.Text at 0x4e44a90>"
       ]
      },
      {
       "metadata": {},
       "output_type": "display_data",
       "png": "[encoded data removed]",
       "text": [
        "<matplotlib.figure.Figure at 0x42fc590>"
       ]
      },
      {
       "metadata": {},
       "output_type": "display_data",
       "png": "[encoded data removed]",
       "text": [
        "<matplotlib.figure.Figure at 0x4adead0>"
       ]
      }
     ],
     "prompt_number": 21
    },
    {
     "cell_type": "code",
     "collapsed": false,
     "input": [
      "from numpy.lib.stride_tricks import as_strided\n",
      "\n",
      "#Peak detection using the technique described here: http://kkjkok.blogspot.com/2013/12/dsp-snippets_9.html \n",
      "def peakfind(x, l_size=3, r_size=3, c_size=3, n_peaks=6, f=np.mean):\n",
      "    win_size = l_size + r_size + c_size\n",
      "    shape = x.shape[:-1] + (x.shape[-1] - win_size + 1, win_size)\n",
      "    strides = x.strides + (x.strides[-1],)\n",
      "    xs = as_strided(x, shape=shape, strides=strides)\n",
      "    def is_peak(x):\n",
      "        centered = (np.argmax(x) == l_size + int(c_size/2))\n",
      "        l = x[:l_size]\n",
      "        c = x[l_size:l_size + c_size]\n",
      "        r = x[-r_size:]\n",
      "        passes = np.max(c) > np.max([f(l), f(r)])\n",
      "        if centered and passes:\n",
      "            return np.max(c)\n",
      "        else:\n",
      "            return -1\n",
      "    r = np.apply_along_axis(is_peak, 1, xs)\n",
      "    top = np.argsort(r, None)[::-1]\n",
      "    return r[top[:n_peaks]], top[:n_peaks]"
     ],
     "language": "python",
     "metadata": {},
     "outputs": [],
     "prompt_number": 22
    },
    {
     "cell_type": "code",
     "collapsed": false,
     "input": [
      "try:\n",
      "    #Trick to avoid reprocessing every time I run the notebook!\n",
      "    len(all_obs)\n",
      "    print \"Observations already processed\"\n",
      "except NameError:\n",
      "    #This processing (top freq peaks) only works for single speaker case... need better features for multispeaker!\n",
      "    #MFCC (or deep NN/automatic feature extraction) could be interesting\n",
      "    all_obs = []\n",
      "    for i in range(data.shape[0]):\n",
      "        d = np.abs(stft(data[i, :]))\n",
      "        n_dim = 6\n",
      "        obs = np.zeros((n_dim, d.shape[0]))\n",
      "        for r in range(d.shape[0]):\n",
      "            _, t = peakfind(d[r, :], n_peaks=n_dim)\n",
      "            obs[:, r] = t.copy()\n",
      "        if i % 10 == 0:\n",
      "            print \"Processed obs %s\"%i\n",
      "        all_obs.append(obs)\n",
      "    for n,i in enumerate(all_obs):\n",
      "        all_obs[n] /= all_obs[n].sum(axis=0)\n",
      "    all_obs = np.atleast_3d(all_obs)"
     ],
     "language": "python",
     "metadata": {},
     "outputs": [
      {
       "output_type": "stream",
       "stream": "stdout",
       "text": [
        "Observations already processed\n"
       ]
      }
     ],
     "prompt_number": 23
    },
    {
     "cell_type": "code",
     "collapsed": false,
     "input": [
      "import scipy.stats as st\n",
      "import numpy as np\n",
      "\n",
      "class gmhmm:\n",
      "    #This class inspired by (stolen from) https://code.google.com/p/hmm-speech-recognition/source/browse/Word.m\n",
      "    def __init__(self, n_states):\n",
      "        self.n_states = n_states\n",
      "        self.random_state = np.random.RandomState(0)\n",
      "        \n",
      "        #Normalize random initial state\n",
      "        self.prior = self._normalize(self.random_state.rand(self.n_states, 1))\n",
      "        self.A = self._stochasticize(self.random_state.rand(self.n_states, self.n_states))\n",
      "        \n",
      "        self.mu = None\n",
      "        self.covs = None\n",
      "        self.n_dims = None\n",
      "           \n",
      "    def _forward(self, B):\n",
      "        #Starting with a 0 loglikelihood seems so wrong...\n",
      "        log_likelihood = 0.\n",
      "        T = B.shape[1]\n",
      "        alpha = np.zeros(B.shape)\n",
      "        for t in range(T):\n",
      "            if t == 0:\n",
      "                alpha[:, t] = B[:, t] * self.prior.ravel()\n",
      "            else:\n",
      "                alpha[:, t] = B[:, t] * np.dot(self.A.T, alpha[:, t - 1])\n",
      "         \n",
      "            alpha_sum = np.sum(alpha[:, t])\n",
      "            alpha[:, t] /= alpha_sum\n",
      "            log_likelihood = log_likelihood + np.log(alpha_sum)\n",
      "        return log_likelihood, alpha\n",
      "    \n",
      "    def _backward(self, B):\n",
      "        T = B.shape[1]\n",
      "        beta = np.zeros(B.shape);\n",
      "           \n",
      "        beta[:, -1] = np.ones(B.shape[0])\n",
      "            \n",
      "        for t in range(T - 1)[::-1]:\n",
      "            beta[:, t] = np.dot(self.A, (B[:, t + 1] * beta[:, t + 1]))\n",
      "            beta[:, t] /= np.sum(beta[:, t])\n",
      "        return beta\n",
      "    \n",
      "    def _state_likelihood(self, obs):\n",
      "        obs = np.atleast_2d(obs)\n",
      "        B = np.zeros((self.n_states, obs.shape[1]))\n",
      "        for s in range(self.n_states):\n",
      "            #Needs scipy 0.14\n",
      "            #Can try to roll-your-own from here if you don't have scipy 0.14\n",
      "            #http://nbviewer.ipython.org/github/rasbt/pattern_classification/blob/master/parameter_estimation_techniques/parzen_window_technique.ipynb?create=1#scipy_kernel\n",
      "            B[s, :] = st.multivariate_normal.pdf(obs.T, mean=self.mu[:, s].T, cov=self.covs[:, :, s].T)\n",
      "        return B\n",
      "    \n",
      "    def _normalize(self, x):\n",
      "        return (x + (x == 0)) / np.sum(x)\n",
      "    \n",
      "    def _stochasticize(self, x):\n",
      "        return (x + (x == 0)) / np.sum(x, axis=1)\n",
      "    \n",
      "    def _em_init(self, obs):\n",
      "        #Using this _em_init function allows for less required constructor args\n",
      "        if self.n_dims is None:\n",
      "            self.n_dims = obs.shape[0]\n",
      "        if self.mu is None:\n",
      "            subset = self.random_state.choice(np.arange(self.n_dims), size=self.n_states, replace=False)\n",
      "            self.mu = obs[:, subset]\n",
      "        if self.covs is None:\n",
      "            self.covs = np.zeros((self.n_dims, self.n_dims, self.n_states))\n",
      "            self.covs += np.diag(np.diag(np.cov(obs)))[:, :, None]\n",
      "        return self\n",
      "    \n",
      "    def _em_step(self, obs): \n",
      "        obs = np.atleast_2d(obs)\n",
      "        B = self._state_likelihood(obs)\n",
      "        T = obs.shape[1]\n",
      "        \n",
      "        log_likelihood, alpha = self._forward(B)\n",
      "        beta = self._backward(B)\n",
      "        \n",
      "        xi_sum = np.zeros((self.n_states, self.n_states))\n",
      "        gamma = np.zeros((self.n_states, T))\n",
      "        \n",
      "        for t in range(T - 1):\n",
      "            partial_sum = self.A * np.dot(alpha[:, t], (beta[:, t] * B[:, t + 1]).T)\n",
      "            xi_sum += self._normalize(partial_sum)\n",
      "            partial_g = alpha[:, t] * beta[:, t]\n",
      "            gamma[:, t] = self._normalize(partial_g)\n",
      "              \n",
      "        partial_g = alpha[:, -1] * beta[:, -1]\n",
      "        gamma[:, -1] = self._normalize(partial_g)\n",
      "        \n",
      "        expected_prior = gamma[:, 0]\n",
      "        expected_A = self._stochasticize(xi_sum)\n",
      "        \n",
      "        expected_mu = np.zeros((self.n_dims, self.n_states))\n",
      "        expected_covs = np.zeros((self.n_dims, self.n_dims, self.n_states))\n",
      "        \n",
      "        gamma_state_sum = np.sum(gamma, axis=1)\n",
      "        #Set zeros to 1 before dividing\n",
      "        gamma_state_sum = gamma_state_sum + (gamma_state_sum == 0)\n",
      "        \n",
      "        for s in range(self.n_states):\n",
      "            gamma_obs = obs * gamma[s, :]\n",
      "            expected_mu[:, s] = np.sum(gamma_obs, axis=1) / gamma_state_sum[s]\n",
      "            partial_covs = np.dot(gamma_obs, obs.T) / gamma_state_sum[s] - np.dot(expected_mu[:, s], expected_mu[:, s].T)\n",
      "            #Symmetrize\n",
      "            partial_covs = np.triu(partial_covs) + np.triu(partial_covs).T - np.diag(partial_covs)\n",
      "        \n",
      "        #Ensure positive semidefinite by adding diagonal loading\n",
      "        expected_covs += .01 * np.eye(self.n_dims)[:, :, None]\n",
      "        \n",
      "        self.prior = expected_prior\n",
      "        self.mu = expected_mu\n",
      "        self.covs = expected_covs\n",
      "        self.A = expected_A\n",
      "        return log_likelihood\n",
      "    \n",
      "    def train(self, obs, n_iter=15):\n",
      "        #Support for 2D and 3D arrays\n",
      "        #2D should be n_features, n_dims\n",
      "        #3D should be n_examples, n_features, n_dims\n",
      "        #For example, with 6 features per speech segment, 105 different words, this array should be size\n",
      "        #(105, 6, X) where X is the number of frames where features were extracted\n",
      "        #For a single example file, the array should be size (6, X)\n",
      "        if len(obs.shape) == 2:\n",
      "            for i in range(n_iter):\n",
      "                self._em_init(obs)\n",
      "                log_likelihood = self._em_step(obs)\n",
      "        elif len(obs.shape) == 3:\n",
      "            count = obs.shape[0]\n",
      "            for n in range(count):\n",
      "                for i in range(n_iter):\n",
      "                    self._em_init(obs[n, :, :])\n",
      "                    log_likelihood = self._em_step(obs[n, :, :])\n",
      "    \n",
      "    def predict(self, obs):\n",
      "        #Support for 2D and 3D arrays\n",
      "        #2D should be n_features, n_dims\n",
      "        #3D should be n_examples, n_features, n_dims\n",
      "        #For example, with 6 features per speech segment, 105 different words, this array should be size\n",
      "        #(105, 6, X) where X is the number of frames where features were extracted \n",
      "        #For a single example file, the array should be size (6, X)\n",
      "        if len(obs.shape) == 2:\n",
      "            B = self._state_likelihood(obs)\n",
      "            log_likelihood, _ = self._forward(B)\n",
      "            return log_likelihood\n",
      "        elif len(obs.shape) == 3:\n",
      "            count = obs.shape[0]\n",
      "            out = np.zeros((count,))\n",
      "            for n in range(count):\n",
      "                B = self._state_likelihood(obs[n, :, :])\n",
      "                log_likelihood, _ = self._forward(B)\n",
      "                out[n] = log_likelihood\n",
      "            return out\n",
      "\n",
      "if __name__ == \"__main__\":\n",
      "    t1 = np.ones((4, 40))\n",
      "    t1 /= t.sum(axis=0)\n",
      "    rstate = np.random.RandomState(0)\n",
      "    t2 = rstate.rand(*t1.shape)\n",
      "    t2 /= t2.sum(axis=0)\n",
      "    m1 = gmhmm(2)\n",
      "    m1.train(t1)\n",
      "    m2 = gmhmm(2)\n",
      "    m2.train(t2)\n",
      "    print \"M1:\",m1.predict(t1)\n",
      "    print \"M2:\",m2.predict(t1)\n",
      "    print \"M1:\",m1.predict(t2)\n",
      "    print \"M2:\",m2.predict(t2)"
     ],
     "language": "python",
     "metadata": {},
     "outputs": [
      {
       "output_type": "stream",
       "stream": "stdout",
       "text": [
        "M1: 221.385757553\n",
        "M2: -269.835042082\n",
        "M1: -377.03577483\n",
        "M2: 99.0392216662\n"
       ]
      }
     ],
     "prompt_number": 24
    },
    {
     "cell_type": "markdown",
     "metadata": {},
     "source": [
      "This is why you always test with the same data used in the original during reimplementation... Features aren't strong enoug to support multispeaker prediction, but GMHMM implementation itself seems OK."
     ]
    },
    {
     "cell_type": "code",
     "collapsed": false,
     "input": [
      "print all_obs.shape"
     ],
     "language": "python",
     "metadata": {},
     "outputs": [
      {
       "output_type": "stream",
       "stream": "stdout",
       "text": [
        "(105, 6, 115)\n"
       ]
      }
     ],
     "prompt_number": 25
    },
    {
     "cell_type": "code",
     "collapsed": false,
     "input": [
      "ks = label_dict.keys()\n",
      "ms = [gmhmm(3) for k in ks]\n",
      "_ = [m.train(all_obs[label_dict[k]]) for m, k in zip(ms, ks)]\n",
      "ps = [m.predict(all_obs[np.hstack([label_dict[k] for k in ks])]) for m in ms]\n",
      "a = np.vstack(ps)"
     ],
     "language": "python",
     "metadata": {},
     "outputs": [],
     "prompt_number": 26
    },
    {
     "cell_type": "code",
     "collapsed": false,
     "input": [
      "predicted_labels = np.argmax(a, axis=0)\n",
      "true_labels = []\n",
      "for n, r in enumerate(label_dict.values()):\n",
      "    true_labels.extend([n]*len(r))\n",
      "true_labels = np.array(true_labels)\n",
      "missed = (predicted_labels != true_labels)\n",
      "print 'accuracy:%.2f percent'%(100*(1 - np.sum(missed) / float(true_labels.shape[0])))"
     ],
     "language": "python",
     "metadata": {},
     "outputs": [
      {
       "output_type": "stream",
       "stream": "stdout",
       "text": [
        "accuracy:82.86 percent\n"
       ]
      }
     ],
     "prompt_number": 27
    }
   ],
   "metadata": {}
  }
 ]
}