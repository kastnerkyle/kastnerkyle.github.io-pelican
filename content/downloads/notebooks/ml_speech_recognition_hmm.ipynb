{
 "metadata": {
  "name": ""
 },
 "nbformat": 3,
 "nbformat_minor": 0,
 "worksheets": [
  {
   "cells": [
    {
     "cell_type": "code",
     "collapsed": false,
     "input": [
      "%matplotlib inline\n",
      "from utils import progress_bar_downloader\n",
      "import os\n",
      "\n",
      "link = 'http://www.speech.cs.cmu.edu/databases/an4/an4_raw.littleendian.tar.gz'\n",
      "dlname = 'an4.tar.gz'\n",
      "#This will unzip into a directory called pages\n",
      "if not os.path.exists('./%s'%dlname):\n",
      "    progress_bar_downloader(link, dlname)\n",
      "    os.system('tar xzf %s'%dlname)\n",
      "else:\n",
      "    print '%s already downloaded!'%dlname"
     ],
     "language": "python",
     "metadata": {},
     "outputs": [
      {
       "output_type": "stream",
       "stream": "stdout",
       "text": [
        "an4.tar.gz already downloaded!\n"
       ]
      }
     ],
     "prompt_number": 19
    },
    {
     "cell_type": "code",
     "collapsed": false,
     "input": [
      "fileids = open('an4/etc/an4_train.fileids').readlines()\n",
      "fileids = ['an4/wav/' + x.strip() for x in fileids]\n",
      "transcriptions = open('an4/etc/an4_train.transcription').readlines()\n",
      "transcriptions = [x.strip() for x in transcriptions]\n",
      "allowed = ['START', 'STOP', 'GO', 'YES', 'NO', 'HELP', 'REPEAT']\n",
      "#Get filenames matching allowed transcriptions\n",
      "transcriptions = filter(lambda x: any([y in x for y in allowed]), transcriptions)\n",
      "labels = [x.split(' ')[1] for x in transcriptions]\n",
      "fnames = [x.split()[-1][1:-1] for x in transcriptions]\n",
      "fpaths = filter(lambda x: any([y in x for y in fnames]), fileids)\n",
      "fpaths = [x + '.raw' for x in fpaths]"
     ],
     "language": "python",
     "metadata": {},
     "outputs": [
      {
       "output_type": "stream",
       "stream": "stdout",
       "text": [
        "['YES', 'GO', 'YES', 'NO', 'GO', 'YES', 'STOP', 'HELP', 'NO', 'GO', 'REPEAT', 'STOP', 'YES', 'REPEAT', 'NO', 'REPEAT', 'NO', 'HELP', 'STOP', 'REPEAT', 'STOP', 'YES', 'HELP', 'HELP', 'YES', 'REPEAT', 'STOP', 'REPEAT', 'START', 'START', 'REPEAT', 'HELP', 'START', 'GO', 'YES', 'NO', 'HELP', 'HELP', 'GO', 'REPEAT', 'NO', 'REPEAT', 'YES', 'START', 'REPEAT', 'NO', 'NO', 'REPEAT', 'NO', 'REPEAT', 'STOP', 'NO', 'REPEAT', 'NO', 'START', 'HELP', 'GO', 'STOP', 'YES', 'HELP', 'STOP', 'STOP', 'GO', 'NO', 'START', 'NO', 'YES', 'STOP', 'START', 'YES', 'GO', 'STOP', 'HELP', 'YES', 'HELP', 'GO', 'START', 'REPEAT', 'HELP', 'STOP', 'NO', 'START', 'YES', 'STOP', 'GO', 'YES', 'REPEAT', 'YES', 'REPEAT', 'REPEAT', 'STOP', 'NO', 'YES', 'YES', 'START', 'NO', 'YES', 'STOP', 'YES', 'YES', 'YES', 'STOP', 'START']\n"
       ]
      }
     ],
     "prompt_number": 91
    },
    {
     "cell_type": "code",
     "collapsed": false,
     "input": [
      "#Files can be heard in Linux using the following commands from the command line\n",
      "#cat an251-fash-b.raw | aplay -f S16_LE -t raw -r 16000\n",
      "#Files are signed 16 bit raw, sample rate 16kHz\n",
      "import struct\n",
      "import numpy as np\n",
      "\n",
      "data = np.zeros((len(fpaths), 32000))\n",
      "maxsize = -1\n",
      "for n,file in enumerate(fpaths):\n",
      "    d = np.fromfile(file, dtype='<h')\n",
      "    data[n, :d.shape[0]] = d\n",
      "    if d.shape[0] > maxsize:\n",
      "        maxsize = d.shape[0]\n",
      "data = data[:, :maxsize]\n",
      "\n",
      "#Each sample file is one row in data, and has one entry in labels\n",
      "print data.shape[0]\n",
      "print len(labels)"
     ],
     "language": "python",
     "metadata": {},
     "outputs": [
      {
       "output_type": "stream",
       "stream": "stdout",
       "text": [
        "103\n",
        "103\n"
       ]
      }
     ],
     "prompt_number": 92
    },
    {
     "cell_type": "code",
     "collapsed": false,
     "input": [
      "import scipy, numpy as np\n",
      "\n",
      "def stft(x, fftsize=160, overlap_pct=.25):   \n",
      "    #Modified from http://stackoverflow.com/questions/2459295/stft-and-istft-in-python\n",
      "    hop = int(fftsize * (1 - overlap_pct))\n",
      "    w = scipy.hanning(fftsize + 1)[:-1]    \n",
      "    raw = np.array([np.fft.rfft(w * x[i:i + fftsize]) for i in range(0, len(x) - fftsize, hop)])\n",
      "    return raw"
     ],
     "language": "python",
     "metadata": {},
     "outputs": [],
     "prompt_number": 84
    },
    {
     "cell_type": "code",
     "collapsed": false,
     "input": [
      "import matplotlib.pyplot as plt\n",
      "plt.plot(data[0, :], color='steelblue')\n",
      "plt.figure()print transcriptions\n",
      "\n",
      "plt.imshow(np.log(np.abs(stft(data[0, :]))), cmap='gray')"
     ],
     "language": "python",
     "metadata": {},
     "outputs": [
      {
       "metadata": {},
       "output_type": "pyout",
       "prompt_number": 85,
       "text": [
        "<matplotlib.image.AxesImage at 0x3eab7710>"
       ]
      },
      {
       "metadata": {},
       "output_type": "display_data",
       "png": "[encoded data removed]",
       "text": [
        "<matplotlib.figure.Figure at 0x3ddc7f50>"
       ]
      },
      {
       "metadata": {},
       "output_type": "display_data",
       "png": "[encoded data removed]",
       "text": [
        "<matplotlib.figure.Figure at 0x43c43a90>"
       ]
      }
     ],
     "prompt_number": 85
    },
    {
     "cell_type": "code",
     "collapsed": false,
     "input": [
      "class hmm:\n",
      "    #This class is heavily modified from https://github.com/alkant/hmmpy/blob/master/hmmpy.py\n",
      "    def __init__(self, n_states, n_obs):\n",
      "        \"\"\"HMM constructor.\n",
      "        \n",
      "        Parameters\n",
      "        ----------\n",
      "        n_states: non-negative integer\n",
      "            Number of hidden states.\n",
      "        n_obs: non-negative integer\n",
      "            Number of possible observed values.\"\"\"\n",
      "        \n",
      "        #pi: Initial state probabilities p(s_0)=pi[s_0].\n",
      "        #t: Transition matrix p(s_j|s_i)=t[s_i][s_j]\n",
      "        #e: Emission matrix p(o_i|s_i)=e[s_i][o_i]\n",
      "        \n",
      "        self.pi = np.zeros(n_states)\n",
      "        self.t = np.zeros((n_states, n_states))\n",
      "        self.e = np.zeros((n_states, n_obs))\n",
      "        self.n_states = n_states\n",
      "        self.n_obs = n_obs\n",
      "        \n",
      "    def train(self, obs, truth):\n",
      "        \"\"\"Learns from a list of observation sequences and their associated ground truth.\n",
      "\n",
      "        Parameters\n",
      "        ----------\n",
      "        observations: 2D array of observations in {0, ..., nObs-1}\n",
      "            List of observed sequences.\n",
      "        ground_truths: 2D array of integers in {0, ..., nStates-1}\n",
      "            Associated ground truths.\"\"\" \n",
      "        self.__init__(self.n_states, self.n_obs)\n",
      "        N = obs.shape[0]\n",
      "        for i in range(N):\n",
      "            o = obs[i, :]\n",
      "            t = truth[i, :]\n",
      "            self.pi[t[0]] += 1\n",
      "            for j in range(t.shape[0] - 1):\n",
      "                self.t[t[j], t[j+1]] +=1\n",
      "                self.e[t[j], o[j]] +=1\n",
      "            self.e[t[-1], o[-1]] += 1 \n",
      "            \n",
      "        self.pi /= N\n",
      "        Zt = np.sum(self.t, axis=1)\n",
      "        Ze = np.sum(self.e, axis=1)\n",
      "        self.t /= np.max([np.ones(Zt.shape), Zt])\n",
      "        self.e /= np.max([np.ones(Ze.shape), Ze])\n",
      "        self.pi = np.log(self.pi)\n",
      "        self.t = np.log(self.t)\n",
      "        self.e = np.log(self.e)\n",
      "                \n",
      "    def predict(self, obs):\n",
      "        \"\"\"Viterbi inference of the highest likelihood hidden states sequence given the observations. Time complexity is O(|observation|*nStates^2).\n",
      "        \n",
      "        Parameters\n",
      "        ----------\n",
      "        observation: List of integers in {0, ..., nObs-1}.\n",
      "\n",
      "        Returns\n",
      "        -------\n",
      "        seq: List of integers in {0, ..., nStates-1}\n",
      "            Highest likelihood infered sequence of hidden states.\n",
      "        \"\"\"\n",
      "        N=len(obs)\n",
      "        tab = np.zeros((N, self.n_states))\n",
      "        backtrack = np.ones((N, self.n_states)) * -1\n",
      "        \n",
      "        tab[0, :] = self.e[:, obs[0]] + self.pi\n",
      "        \n",
      "        for i in range(1, N):\n",
      "            for j in range(self.n_states):\n",
      "                smax=-1\n",
      "                maxval=float('-inf')\n",
      "                for s in range(self.n_states):\n",
      "                    cs=tab[i-1][s]+self.t[s][j]\n",
      "                    if cs>maxval:\n",
      "                        smax=s\n",
      "                        maxval=cs\n",
      "                assert(smax>-1 and smax<self.n_states)\n",
      "                tab[i][j]=self.e[j][obs[i]]+maxval\n",
      "                backtrack[i][j]=smax\n",
      "\n",
      "        smax=-1\n",
      "        llike=float('-inf')\n",
      "        for s in range(self.n_states):\n",
      "            if llike<tab[N-1][s]:\n",
      "                llike=tab[N-1][s]\n",
      "                smax=s\n",
      "\n",
      "        best=[-1]*N\n",
      "        best[-1]=smax\n",
      "        for i in range(N-2, -1, -1):\n",
      "            best[i]=backtrack[i+1][best[i+1]]\n",
      "\n",
      "        return best, llike "
     ],
     "language": "python",
     "metadata": {},
     "outputs": [],
     "prompt_number": 318
    },
    {
     "cell_type": "code",
     "collapsed": false,
     "input": [
      "observations  = np.array([0,0,0,0,0,1,1,1,1,1,0,1,0,0,0,1,0,1,1,1,1,0,0,0,0,1,0,1,1,0,1,1,0,0,1,0,0,1,1,1,1,0,0,1,0,0])\n",
      "ground_truths = np.array([0,0,0,0,0,1,1,1,1,1,0,0,0,0,0,1,1,1,1,1,1,0,0,0,0,1,1,1,1,1,1,1,0,0,0,0,0,1,1,1,1,0,0,0,0,0])\n",
      "\n",
      "observations = observations.reshape((2, 23))\n",
      "ground_truths = ground_truths.reshape((2, 23))\n",
      "\n",
      "m = hmm(2, 2)\n",
      "m.train(observations, ground_truths)\n",
      "print observations[0, :]\n",
      "m.predict(observations[0, :])"
     ],
     "language": "python",
     "metadata": {},
     "outputs": [
      {
       "output_type": "stream",
       "stream": "stdout",
       "text": [
        "[0 0 0 0 0 1 1 1 1 1 0 1 0 0 0 1 0 1 1 1 1 0 0]\n"
       ]
      },
      {
       "metadata": {},
       "output_type": "pyout",
       "prompt_number": 319,
       "text": [
        "([0.0,\n",
        "  0.0,\n",
        "  0.0,\n",
        "  0.0,\n",
        "  0.0,\n",
        "  1.0,\n",
        "  1.0,\n",
        "  1.0,\n",
        "  1.0,\n",
        "  1.0,\n",
        "  0.0,\n",
        "  0.0,\n",
        "  0.0,\n",
        "  0.0,\n",
        "  0.0,\n",
        "  0.0,\n",
        "  0.0,\n",
        "  1.0,\n",
        "  1.0,\n",
        "  1.0,\n",
        "  1.0,\n",
        "  0.0,\n",
        "  0],\n",
        " -18.294858342759905)"
       ]
      }
     ],
     "prompt_number": 319
    },
    {
     "cell_type": "code",
     "collapsed": false,
     "input": [
      "observations  = np.array([0,0,0,0,0,1,1,1,1,1,0,1,0,0,0,1,0,1,1,1,1,0,0,0,0,1,0,1,1,0,1,1,0,0,1,0,0,1,1,1,1,0,0,1,0,0])\n",
      "ground_truths = np.array([0,0,0,0,0,1,1,1,1,1,0,0,0,0,0,1,1,1,1,1,1,0,0,0,0,1,1,1,1,1,1,1,0,0,0,0,0,1,1,1,1,0,0,0,0,0])\n",
      "\n",
      "observations = observations.reshape((2, 23))\n",
      "ground_truths = ground_truths.reshape((2, 23))\n",
      "\n",
      "m = hmm(2, 2)\n",
      "m.train(observations, ground_truths)\n",
      "print ground_truths[1, :]\n",
      "m.predict(observations[1, :])"
     ],
     "language": "python",
     "metadata": {},
     "outputs": [
      {
       "output_type": "stream",
       "stream": "stdout",
       "text": [
        "[0 0 1 1 1 1 1 1 1 0 0 0 0 0 1 1 1 1 0 0 0 0 0]\n"
       ]
      },
      {
       "metadata": {},
       "output_type": "pyout",
       "prompt_number": 312,
       "text": [
        "([0, 0, 0, 0, 1, 1, 1, 1, 1, 0, 0, 0, 0, 0, 1, 1, 1, 1, 0, 0, 0, 0, 0],\n",
        " -22.086595182313552)"
       ]
      }
     ],
     "prompt_number": 312
    },
    {
     "cell_type": "code",
     "collapsed": false,
     "input": [],
     "language": "python",
     "metadata": {},
     "outputs": [],
     "prompt_number": 263
    },
    {
     "cell_type": "code",
     "collapsed": false,
     "input": [],
     "language": "python",
     "metadata": {},
     "outputs": []
    }
   ],
   "metadata": {}
  }
 ]
}