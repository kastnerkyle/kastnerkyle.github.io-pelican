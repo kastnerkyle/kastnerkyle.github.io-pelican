{
 "metadata": {
  "name": ""
 },
 "nbformat": 3,
 "nbformat_minor": 0,
 "worksheets": [
  {
   "cells": [
    {
     "cell_type": "code",
     "collapsed": false,
     "input": [
      "%matplotlib inline\n",
      "from utils import progress_bar_downloader\n",
      "import os\n",
      "\n",
      "link = 'http://www.speech.cs.cmu.edu/databases/an4/an4_raw.littleendian.tar.gz'\n",
      "dlname = 'an4.tar.gz'\n",
      "#This will unzip into a directory called pages\n",
      "if not os.path.exists('./%s'%dlname):\n",
      "    progress_bar_downloader(link, dlname)\n",
      "    os.system('tar xzf %s'%dlname)\n",
      "else:\n",
      "    print '%s already downloaded!'%dlname"
     ],
     "language": "python",
     "metadata": {},
     "outputs": [
      {
       "output_type": "stream",
       "stream": "stdout",
       "text": [
        "an4.tar.gz already downloaded!\n"
       ]
      }
     ],
     "prompt_number": 1
    },
    {
     "cell_type": "code",
     "collapsed": false,
     "input": [
      "fileids = open('an4/etc/an4_train.fileids').readlines()\n",
      "fileids = ['an4/wav/' + x.strip() for x in fileids]\n",
      "transcriptions = open('an4/etc/an4_train.transcription').readlines()\n",
      "transcriptions = [x.strip() for x in transcriptions]\n",
      "allowed = ['START', 'STOP', 'GO', 'YES', 'NO', 'HELP', 'REPEAT']\n",
      "#Get filenames matching allowed transcriptions\n",
      "transcriptions = filter(lambda x: any([y in x for y in allowed]), transcriptions)\n",
      "labels = [x.split(' ')[1] for x in transcriptions]\n",
      "fnames = [x.split()[-1][1:-1] for x in transcriptions]\n",
      "fpaths = filter(lambda x: any([y in x for y in fnames]), fileids)\n",
      "fpaths = [x + '.raw' for x in fpaths]"
     ],
     "language": "python",
     "metadata": {},
     "outputs": [],
     "prompt_number": 2
    },
    {
     "cell_type": "code",
     "collapsed": false,
     "input": [
      "#Files can be heard in Linux using the following commands from the command line\n",
      "#cat an251-fash-b.raw | aplay -f S16_LE -t raw -r 16000\n",
      "#Files are signed 16 bit raw, sample rate 16kHz\n",
      "import struct\n",
      "import numpy as np\n",
      "\n",
      "data = np.zeros((len(fpaths), 32000))\n",
      "maxsize = -1\n",
      "for n,file in enumerate(fpaths):\n",
      "    d = np.fromfile(file, dtype='<h')\n",
      "    data[n, :d.shape[0]] = d\n",
      "    if d.shape[0] > maxsize:\n",
      "        maxsize = d.shape[0]\n",
      "data = data[:, :maxsize]\n",
      "\n",
      "#Each sample file is one row in data, and has one entry in labels\n",
      "print data.shape[0]\n",
      "print len(labels)\n",
      "label_dict = {}\n",
      "for l in set(labels):\n",
      "    label_dict[l] = np.array([i for i, _ in enumerate(labels) if _ == l])\n",
      "    \n",
      "print label_dict"
     ],
     "language": "python",
     "metadata": {},
     "outputs": [
      {
       "output_type": "stream",
       "stream": "stdout",
       "text": [
        "103\n",
        "103\n",
        "{'REPEAT': array([10, 13, 15, 19, 25, 27, 30, 39, 41, 44, 47, 49, 52, 77, 86, 88, 89]), 'HELP': array([ 7, 17, 22, 23, 31, 36, 37, 55, 59, 72, 74, 78]), 'NO': array([ 3,  8, 14, 16, 35, 40, 45, 46, 48, 51, 53, 63, 65, 80, 91, 95]), 'STOP': array([  6,  11,  18,  20,  26,  50,  57,  60,  61,  67,  71,  79,  83,\n",
        "        90,  97, 101]), 'START': array([ 28,  29,  32,  43,  54,  64,  68,  76,  81,  94, 102]), 'GO': array([ 1,  4,  9, 33, 38, 56, 62, 70, 75, 84]), 'YES': array([  0,   2,   5,  12,  21,  24,  34,  42,  58,  66,  69,  73,  82,\n",
        "        85,  87,  92,  93,  96,  98,  99, 100])}\n"
       ]
      }
     ],
     "prompt_number": 3
    },
    {
     "cell_type": "code",
     "collapsed": false,
     "input": [
      "import scipy, numpy as np\n",
      "\n",
      "def stft(x, fftsize=160, overlap_pct=.25):   \n",
      "    #Modified from http://stackoverflow.com/questions/2459295/stft-and-istft-in-python\n",
      "    hop = int(fftsize * (1 - overlap_pct))\n",
      "    w = scipy.hanning(fftsize + 1)[:-1]    \n",
      "    raw = np.array([np.fft.rfft(w * x[i:i + fftsize]) for i in range(0, len(x) - fftsize, hop)])\n",
      "    return raw[:, :fftsize/2]"
     ],
     "language": "python",
     "metadata": {},
     "outputs": [],
     "prompt_number": 4
    },
    {
     "cell_type": "code",
     "collapsed": false,
     "input": [
      "import matplotlib.pyplot as plt\n",
      "plt.plot(data[0, :], color='steelblue')\n",
      "plt.figure()\n",
      "        \n",
      "plt.imshow(np.log(np.abs(stft(data[0, :]))), cmap='gray')"
     ],
     "language": "python",
     "metadata": {},
     "outputs": [
      {
       "output_type": "stream",
       "stream": "stderr",
       "text": [
        "-c:5: RuntimeWarning: divide by zero encountered in log\n"
       ]
      },
      {
       "metadata": {},
       "output_type": "pyout",
       "prompt_number": 5,
       "text": [
        "<matplotlib.image.AxesImage at 0x299d0d0>"
       ]
      },
      {
       "metadata": {},
       "output_type": "display_data",
       "png": "[encoded data removed]",
       "text": [
        "<matplotlib.figure.Figure at 0x2908bd0>"
       ]
      },
      {
       "metadata": {},
       "output_type": "display_data",
       "png": "[encoded data removed]",
       "text": [
        "<matplotlib.figure.Figure at 0x2908c10>"
       ]
      }
     ],
     "prompt_number": 5
    },
    {
     "cell_type": "code",
     "collapsed": false,
     "input": [
      "from numpy.lib.stride_tricks import as_strided\n",
      "\n",
      "def freqpeakfind(x, l_size=3, r_size=3, c_size=3, n_peaks=6, f=np.mean):\n",
      "    win_size = l_size + r_size + c_size\n",
      "    shape = x.shape[:-1] + (x.shape[-1] - win_size + 1, win_size)\n",
      "    strides = x.strides + (x.strides[-1],)\n",
      "    xs = as_strided(x, shape=shape, strides=strides)\n",
      "    def is_peak(x):\n",
      "        centered = (np.argmax(x) == l_size + int(c_size/2))\n",
      "        l = x[:l_size]\n",
      "        c = x[l_size:l_size + c_size]\n",
      "        r = x[-r_size:]\n",
      "        passes = np.max(c) > np.max([f(l), f(r)])\n",
      "        if centered and passes:\n",
      "            return np.max(c)\n",
      "        else:\n",
      "            return -1\n",
      "    r = np.apply_along_axis(is_peak, 1, xs)\n",
      "    top = np.argsort(r, None)[::-1]\n",
      "    return r[top[:n_peaks]], top[:n_peaks]"
     ],
     "language": "python",
     "metadata": {},
     "outputs": [],
     "prompt_number": 6
    },
    {
     "cell_type": "code",
     "collapsed": false,
     "input": [
      "try:\n",
      "    #Trick to avoid reprocessing every time I run the notebook!\n",
      "    len(all_obs)\n",
      "    print \"Observations already processed\"\n",
      "except NameError:\n",
      "    all_obs = []\n",
      "    for i in range(data.shape[0]):\n",
      "        d = np.abs(stft(data[i, :]))\n",
      "        n_dim = 6\n",
      "        obs = np.zeros((n_dim, d.shape[0]))\n",
      "        for r in range(d.shape[0]):\n",
      "            _, t = freqpeakfind(d[r, :], n_peaks=n_dim)\n",
      "            obs[:, r] = t.copy()\n",
      "        if i % 10 == 0:\n",
      "            print \"Processed obs %s\"%i\n",
      "        all_obs.append(obs)\n",
      "    for n,i in enumerate(all_obs):\n",
      "        all_obs[n] /= all_obs[n].sum(axis=0)"
     ],
     "language": "python",
     "metadata": {},
     "outputs": [
      {
       "output_type": "stream",
       "stream": "stdout",
       "text": [
        "Processed obs 0\n",
        "Processed obs 10"
       ]
      },
      {
       "output_type": "stream",
       "stream": "stdout",
       "text": [
        "\n",
        "Processed obs 20"
       ]
      },
      {
       "output_type": "stream",
       "stream": "stdout",
       "text": [
        "\n",
        "Processed obs 30"
       ]
      },
      {
       "output_type": "stream",
       "stream": "stdout",
       "text": [
        "\n",
        "Processed obs 40"
       ]
      },
      {
       "output_type": "stream",
       "stream": "stdout",
       "text": [
        "\n",
        "Processed obs 50"
       ]
      },
      {
       "output_type": "stream",
       "stream": "stdout",
       "text": [
        "\n",
        "Processed obs 60"
       ]
      },
      {
       "output_type": "stream",
       "stream": "stdout",
       "text": [
        "\n",
        "Processed obs 70"
       ]
      },
      {
       "output_type": "stream",
       "stream": "stdout",
       "text": [
        "\n",
        "Processed obs 80"
       ]
      },
      {
       "output_type": "stream",
       "stream": "stdout",
       "text": [
        "\n",
        "Processed obs 90"
       ]
      },
      {
       "output_type": "stream",
       "stream": "stdout",
       "text": [
        "\n",
        "Processed obs 100"
       ]
      },
      {
       "output_type": "stream",
       "stream": "stdout",
       "text": [
        "\n"
       ]
      }
     ],
     "prompt_number": 7
    },
    {
     "cell_type": "code",
     "collapsed": false,
     "input": [
      "import scipy.stats as st\n",
      "import numpy as np\n",
      "\n",
      "class gmhmm:\n",
      "    #This class inspired by https://code.google.com/p/hmm-speech-recognition/source/browse/Word.m\n",
      "    def __init__(self, n_states):\n",
      "        self.n_states = n_states\n",
      "        self.random_state = np.random.RandomState(0)\n",
      "        \n",
      "        #Normalize random state\n",
      "        self.prior = self._normalize(self.random_state.rand(self.n_states, 1))\n",
      "        self.A = self._stochasticize(self.random_state.rand(self.n_states, self.n_states))\n",
      "        \n",
      "        self.mu = None\n",
      "        self.covs = None\n",
      "        self.n_dims = None\n",
      "           \n",
      "    def _forward(self, B):\n",
      "        #Starting with a 0 loglikelihood seems so wrong...\n",
      "        log_likelihood = 0.\n",
      "        #log_likelihood = np.log(1E-20)\n",
      "        T = B.shape[1]\n",
      "        alpha = np.zeros(B.shape)\n",
      "        for t in range(T):\n",
      "            if t == 0:\n",
      "                alpha[:, t] = B[:, t] * self.prior.ravel()\n",
      "            else:\n",
      "                alpha[:, t] = B[:, t] * np.dot(self.A.T, alpha[:, t - 1])\n",
      "         \n",
      "            alpha_sum = np.sum(alpha[:, t])\n",
      "            alpha[:, t] /= alpha_sum\n",
      "            log_likelihood = log_likelihood + np.log(alpha_sum)\n",
      "        return log_likelihood, alpha\n",
      "    \n",
      "    def _backward(self, B):\n",
      "        T = B.shape[1]\n",
      "        beta = np.zeros(B.shape);\n",
      "           \n",
      "        beta[:, -1] = np.ones(B.shape[0])\n",
      "            \n",
      "        for t in range(T - 1)[::-1]:\n",
      "            beta[:, t] = np.dot(self.A, (B[:, t + 1] * beta[:, t + 1]))\n",
      "            beta[:, t] /= np.sum(beta[:, t])\n",
      "        return beta\n",
      "    \n",
      "    def _state_likelihood(self, obs):\n",
      "        obs = np.atleast_2d(obs)\n",
      "        B = np.zeros((self.n_states, obs.shape[1]))\n",
      "            \n",
      "        for s in range(self.n_states):\n",
      "            #Needs scipy 0.14\n",
      "            B[s, :] = st.multivariate_normal.pdf(obs.T, mean=self.mu[:, s].T, cov=self.covs[:, :, s].T)\n",
      "        return B\n",
      "    \n",
      "    def _normalize(self, x):\n",
      "        return (x + (x == 0)) / np.sum(x)\n",
      "    \n",
      "    def _stochasticize(self, x):\n",
      "        return (x + (x == 0)) / np.sum(x, axis=1)\n",
      "    \n",
      "    def _em_init(self, obs):\n",
      "        if self.n_dims is None:\n",
      "            self.n_dims = obs.shape[0]\n",
      "        if self.mu is None:\n",
      "            subset = self.random_state.choice(np.arange(self.n_dims), size=self.n_states, replace=False)\n",
      "            self.mu = obs[:, subset]\n",
      "        if self.covs is None:\n",
      "            self.covs = np.zeros((self.n_dims, self.n_dims, self.n_states))\n",
      "            self.covs += np.diag(np.diag(np.cov(obs)))[:, :, None]\n",
      "        return self\n",
      "    \n",
      "    def _em_step(self, obs): \n",
      "        obs = np.atleast_2d(obs)\n",
      "        B = self._state_likelihood(obs)\n",
      "        D = obs.shape[0]\n",
      "        T = obs.shape[1]\n",
      "        \n",
      "        log_likelihood, alpha = self._forward(B)\n",
      "        beta = self._backward(B)\n",
      "        \n",
      "        xi_sum = np.zeros((self.n_states, self.n_states))\n",
      "        gamma = np.zeros((self.n_states, T))\n",
      "        \n",
      "        for t in range(T - 1):\n",
      "            partial_sum = self.A * np.dot(alpha[:, t], (beta[:, t] * B[:, t + 1]).T)\n",
      "            xi_sum += self._normalize(partial_sum)\n",
      "            partial_g = alpha[:, t] * beta[:, t]\n",
      "            gamma[:, t] = self._normalize(partial_g)\n",
      "              \n",
      "        partial_g = alpha[:, -1] * beta[:, -1]\n",
      "        gamma[:, -1] = self._normalize(partial_g)\n",
      "        \n",
      "        expected_prior = gamma[:, 0]\n",
      "        expected_A = self._stochasticize(xi_sum)\n",
      "        \n",
      "        expected_mu = np.zeros((D, self.n_states))\n",
      "        expected_covs = np.zeros((D, D, self.n_states))\n",
      "        \n",
      "        gamma_state_sum = np.sum(gamma, axis=1)\n",
      "        #Set zeros to 1 before dividing\n",
      "        gamma_state_sum = gamma_state_sum + (gamma_state_sum == 0)\n",
      "        \n",
      "        for s in range(self.n_states):\n",
      "            gamma_obs = obs * gamma[s, :]\n",
      "            expected_mu[:, s] = np.sum(gamma_obs, axis=1) / gamma_state_sum[s]\n",
      "            partial_covs = np.dot(gamma_obs, obs.T) / gamma_state_sum[s] - np.dot(expected_mu[:, s], expected_mu[:, s].T)\n",
      "            partial_covs = np.triu(partial_covs) + np.triu(partial_covs).T - np.diag(np.diag(partial_covs))\n",
      "            expected_covs[:, :, s] = np.dot(partial_covs, partial_covs.T)\n",
      "        \n",
      "        #Ensure positive semidefinite\n",
      "        expected_covs += .01 * np.eye(D)[:, :, None]\n",
      "        \n",
      "        self.prior = expected_prior\n",
      "        self.mu = expected_mu\n",
      "        self.covs = expected_covs\n",
      "        self.A = expected_A\n",
      "        return log_likelihood\n",
      "    \n",
      "    def train(self, obs, n_iter=100):\n",
      "        if len(obs.shape) == 2:\n",
      "            for i in range(n_iter):\n",
      "                self._em_init(obs)\n",
      "                log_likelihood = self._em_step(obs)\n",
      "        elif len(obs.shape) == 3:\n",
      "            count = obs.shape[0]\n",
      "            for n in range(count):\n",
      "                for i in range(n_iter):\n",
      "                    self._em_init(obs[n, :, :])\n",
      "                    log_likelihood = self._em_step(obs[n, :, :])\n",
      "    \n",
      "    def predict(self, obs):\n",
      "        if len(obs.shape) == 2:\n",
      "            B = self._state_likelihood(obs)\n",
      "            log_likelihood, _ = self._forward(B)\n",
      "            return log_likelihood\n",
      "        elif len(obs.shape) == 3:\n",
      "            count = obs.shape[0]\n",
      "            out = np.zeros((count,))\n",
      "            for n in range(count):\n",
      "                B = self._state_likelihood(obs[n, :, :])\n",
      "                log_likelihood, _ = self._forward(B)\n",
      "                out[n] = log_likelihood\n",
      "            return out\n",
      "\n",
      "if __name__ == \"__main__\":\n",
      "    t1 = np.ones((4, 40))\n",
      "    t1 /= t.sum(axis=0)\n",
      "    rstate = np.random.RandomState(0)\n",
      "    t2 = rstate.rand(*t1.shape)\n",
      "    t2 /= t2.sum(axis=0)\n",
      "    m1 = gmhmm(2)\n",
      "    m1.train(t1)\n",
      "    m2 = gmhmm(2)\n",
      "    m2.train(t2)\n",
      "    print \"M1:\",m1.predict(t1)\n",
      "    print \"M2:\",m2.predict(t1)\n",
      "    \n",
      "    print \"M1:\",m1.predict(t2)\n",
      "    print \"M2:\",m2.predict(t2)"
     ],
     "language": "python",
     "metadata": {},
     "outputs": [
      {
       "output_type": "stream",
       "stream": "stdout",
       "text": [
        "M1: 221.383333195\n",
        "M2: 65.9101223141\n",
        "M1: -414.010084895\n",
        "M2: 16.4458694623\n"
       ]
      }
     ],
     "prompt_number": 73
    },
    {
     "cell_type": "code",
     "collapsed": false,
     "input": [
      "#!pip install git+git://github.com/hmmlearn/hmmlearn.git"
     ],
     "language": "python",
     "metadata": {},
     "outputs": [],
     "prompt_number": 9
    },
    {
     "cell_type": "code",
     "collapsed": false,
     "input": [
      "print all_obs[0].shape\n",
      "np_obs = np.atleast_3d(all_obs)\n",
      "print np_obs.shape"
     ],
     "language": "python",
     "metadata": {},
     "outputs": [
      {
       "output_type": "stream",
       "stream": "stdout",
       "text": [
        "(6, 212)\n",
        "(103, 6, 212)\n"
       ]
      }
     ],
     "prompt_number": 60
    },
    {
     "cell_type": "code",
     "collapsed": false,
     "input": [
      "np_obs = np.atleast_3d(all_obs)\n",
      "m1 = gmhmm(3)\n",
      "m2 = gmhmm(3)\n",
      "m1.train(np_obs[label_dict['YES']])\n",
      "m2.train(np_obs[label_dict['NO']])\n",
      "m1p = m1.predict(np_obs[np.hstack((label_dict['YES'], label_dict['NO']))])\n",
      "m2p = m2.predict(np_obs[np.hstack((label_dict['YES'], label_dict['NO']))])\n",
      "a = np.vstack((m1p, m2p))"
     ],
     "language": "python",
     "metadata": {},
     "outputs": [],
     "prompt_number": 74
    },
    {
     "cell_type": "code",
     "collapsed": false,
     "input": [
      "print np.argmax(a, axis=0)"
     ],
     "language": "python",
     "metadata": {},
     "outputs": [
      {
       "output_type": "stream",
       "stream": "stdout",
       "text": [
        "[1 1 1 1 1 1 1 0 1 1 1 0 1 1 1 1 1 1 1 0 1 0 1 1 1 1 1 1 1 1 1 0 1 1 1 1 1]\n"
       ]
      }
     ],
     "prompt_number": 72
    },
    {
     "cell_type": "code",
     "collapsed": false,
     "input": [
      "from hmmlearn import hmm\n",
      "\n",
      "m1 = hmm.GaussianHMM(3)\n",
      "m1.fit(all_obs)\n",
      "m1.predict_proba(all_obs[0])"
     ],
     "language": "python",
     "metadata": {},
     "outputs": [
      {
       "metadata": {},
       "output_type": "pyout",
       "prompt_number": 25,
       "text": [
        "array([[  1.19209247e-07,   9.99999762e-01,   1.19209247e-07],\n",
        "       [  1.19209247e-07,   9.99999762e-01,   1.19209247e-07],\n",
        "       [  9.99999762e-01,   1.19209247e-07,   1.19209247e-07],\n",
        "       [  9.99999762e-01,   1.19209247e-07,   1.19209247e-07],\n",
        "       [  9.99999762e-01,   1.19209247e-07,   1.19209247e-07],\n",
        "       [  9.99999762e-01,   1.19209247e-07,   1.19209247e-07]])"
       ]
      }
     ],
     "prompt_number": 25
    },
    {
     "cell_type": "code",
     "collapsed": false,
     "input": [],
     "language": "python",
     "metadata": {},
     "outputs": [],
     "prompt_number": 13
    }
   ],
   "metadata": {}
  }
 ]
}