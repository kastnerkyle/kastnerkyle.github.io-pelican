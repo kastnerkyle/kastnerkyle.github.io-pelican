{
 "metadata": {
  "name": ""
 },
 "nbformat": 3,
 "nbformat_minor": 0,
 "worksheets": [
  {
   "cells": [
    {
     "cell_type": "code",
     "collapsed": false,
     "input": [
      "%matplotlib inline\n",
      "from utils import progress_bar_downloader\n",
      "import os\n",
      "\n",
      "#Hosting files on my dropbox since downloading from google code is painful\n",
      "#Original project hosting is here: https://code.google.com/p/hmm-speech-recognition/downloads/list\n",
      "#Audio is included in the zip file\n",
      "link = 'https://dl.dropboxusercontent.com/u/15378192/audio.tar.gz'\n",
      "dlname = 'audio.tar.gz'\n",
      "\n",
      "if not os.path.exists('./%s'%dlname):\n",
      "    progress_bar_downloader(link, dlname)\n",
      "    os.system('tar xzf %s'%dlname)\n",
      "else:\n",
      "    print '%s already downloaded!'%dlname"
     ],
     "language": "python",
     "metadata": {},
     "outputs": [
      {
       "output_type": "stream",
       "stream": "stdout",
       "text": [
        "audio.tar.gz already downloaded!\n"
       ]
      }
     ],
     "prompt_number": 1
    },
    {
     "cell_type": "code",
     "collapsed": false,
     "input": [
      "fpaths = []\n",
      "labels = []\n",
      "spoken = []\n",
      "for f in os.listdir('audio'):\n",
      "    for w in os.listdir('audio/' + f):\n",
      "        fpaths.append('audio/' + f + '/' + w)\n",
      "        labels.append(f)\n",
      "        if f not in spoken:\n",
      "            spoken.append(f)\n",
      "print 'Words spoken:',spoken"
     ],
     "language": "python",
     "metadata": {},
     "outputs": [
      {
       "output_type": "stream",
       "stream": "stdout",
       "text": [
        "Words spoken: ['kiwi', 'apple', 'banana', 'orange', 'pineapple', 'peach', 'lime']\n"
       ]
      }
     ],
     "prompt_number": 2
    },
    {
     "cell_type": "code",
     "collapsed": false,
     "input": [
      "#Files can be heard in Linux using the following commands from the command line\n",
      "#cat kiwi07.wav | aplay -f S16_LE -t wav -r 8000\n",
      "#Files are signed 16 bit raw, sample rate 8000\n",
      "from scipy.io import wavfile\n",
      "import numpy as np\n",
      "\n",
      "data = np.zeros((len(fpaths), 32000))\n",
      "maxsize = -1\n",
      "for n,file in enumerate(fpaths):\n",
      "    _, d = wavfile.read(file)\n",
      "    data[n, :d.shape[0]] = d\n",
      "    if d.shape[0] > maxsize:\n",
      "        maxsize = d.shape[0]\n",
      "data = data[:, :maxsize]\n",
      "\n",
      "#Each sample file is one row in data, and has one entry in labels\n",
      "print 'Number of files total:',data.shape[0]\n",
      "all_labels = np.zeros(data.shape[0])\n",
      "for n, l in enumerate(set(labels)):\n",
      "    all_labels[np.array([i for i, _ in enumerate(labels) if _ == l])] = n\n",
      "    \n",
      "print 'Labels and label indices',all_labels"
     ],
     "language": "python",
     "metadata": {},
     "outputs": [
      {
       "output_type": "stream",
       "stream": "stdout",
       "text": [
        "Number of files total: 105\n",
        "Labels and label indices [ 0.  0.  0.  0.  0.  0.  0.  0.  0.  0.  0.  0.  0.  0.  0.  1.  1.  1.\n",
        "  1.  1.  1.  1.  1.  1.  1.  1.  1.  1.  1.  1.  5.  5.  5.  5.  5.  5.\n",
        "  5.  5.  5.  5.  5.  5.  5.  5.  5.  4.  4.  4.  4.  4.  4.  4.  4.  4.\n",
        "  4.  4.  4.  4.  4.  4.  3.  3.  3.  3.  3.  3.  3.  3.  3.  3.  3.  3.\n",
        "  3.  3.  3.  2.  2.  2.  2.  2.  2.  2.  2.  2.  2.  2.  2.  2.  2.  2.\n",
        "  6.  6.  6.  6.  6.  6.  6.  6.  6.  6.  6.  6.  6.  6.  6.]\n"
       ]
      }
     ],
     "prompt_number": 3
    },
    {
     "cell_type": "code",
     "collapsed": false,
     "input": [
      "import scipy\n",
      "import numpy as np\n",
      "\n",
      "def stft(x, fftsize=80, overlap_pct=.25):   \n",
      "    #Modified from http://stackoverflow.com/questions/2459295/stft-and-istft-in-python\n",
      "    hop = int(fftsize * (1 - overlap_pct))\n",
      "    w = scipy.hanning(fftsize + 1)[:-1]    \n",
      "    raw = np.array([np.fft.rfft(w * x[i:i + fftsize]) for i in range(0, len(x) - fftsize, hop)])\n",
      "    return raw[:, :fftsize / 2]"
     ],
     "language": "python",
     "metadata": {},
     "outputs": [],
     "prompt_number": 4
    },
    {
     "cell_type": "code",
     "collapsed": false,
     "input": [
      "import matplotlib.pyplot as plt\n",
      "plt.plot(data[0, :], color='steelblue')\n",
      "plt.title('Timeseries example for %s'%labels[0])\n",
      "plt.xlabel('Time (samples)')\n",
      "plt.ylabel('Amplitude (signed 16 bit)')\n",
      "plt.figure()\n",
      "fftsize=80\n",
      "overlap_pct=.25\n",
      "log_freq = 20 * np.log(np.abs(stft(data[0, :],fftsize, overlap_pct)))\n",
      "plt.imshow(log_freq, cmap='gray')\n",
      "plt.xlabel('Freq (bin)')\n",
      "plt.ylabel('Time (overlapped frames)')\n",
      "plt.ylim(log_freq.shape[1])\n",
      "plt.title('STFT of %s example'%labels[0])"
     ],
     "language": "python",
     "metadata": {},
     "outputs": [
      {
       "metadata": {},
       "output_type": "pyout",
       "prompt_number": 21,
       "text": [
        "<matplotlib.text.Text at 0x51e4550>"
       ]
      },
      {
       "metadata": {},
       "output_type": "display_data",
       "png": "[encoded data removed]",
       "text": [
        "<matplotlib.figure.Figure at 0x4c97190>"
       ]
      },
      {
       "metadata": {},
       "output_type": "display_data",
       "png": "[encoded data removed]",
       "text": [
        "<matplotlib.figure.Figure at 0x3b83090>"
       ]
      }
     ],
     "prompt_number": 21
    },
    {
     "cell_type": "code",
     "collapsed": false,
     "input": [
      "from numpy.lib.stride_tricks import as_strided\n",
      "\n",
      "#Peak detection using the technique described here: http://kkjkok.blogspot.com/2013/12/dsp-snippets_9.html \n",
      "def peakfind(x, l_size=3, r_size=3, c_size=3, n_peaks=6, f=np.mean):\n",
      "    win_size = l_size + r_size + c_size\n",
      "    shape = x.shape[:-1] + (x.shape[-1] - win_size + 1, win_size)\n",
      "    strides = x.strides + (x.strides[-1],)\n",
      "    xs = as_strided(x, shape=shape, strides=strides)\n",
      "    def is_peak(x):\n",
      "        centered = (np.argmax(x) == l_size + int(c_size/2))\n",
      "        l = x[:l_size]\n",
      "        c = x[l_size:l_size + c_size]\n",
      "        r = x[-r_size:]\n",
      "        passes = np.max(c) > np.max([f(l), f(r)])\n",
      "        if centered and passes:\n",
      "            return np.max(c)\n",
      "        else:\n",
      "            return -1\n",
      "    r = np.apply_along_axis(is_peak, 1, xs)\n",
      "    top = np.argsort(r, None)[::-1]\n",
      "    return r[top[:n_peaks]], top[:n_peaks]"
     ],
     "language": "python",
     "metadata": {},
     "outputs": [],
     "prompt_number": 6
    },
    {
     "cell_type": "code",
     "collapsed": false,
     "input": [
      "try:\n",
      "    #Trick to avoid reprocessing every time I run the notebook to test algorithm changes!\n",
      "    len(all_obs)\n",
      "    print \"Observations already processed\"\n",
      "except NameError:\n",
      "    #This processing (top freq peaks) only works for single speaker case... need better features for multispeaker!\n",
      "    #MFCC (or deep NN/automatic feature extraction) could be interesting\n",
      "    all_obs = []\n",
      "    for i in range(data.shape[0]):\n",
      "        d = np.abs(stft(data[i, :]))\n",
      "        n_dim = 8\n",
      "        obs = np.zeros((n_dim, d.shape[0]))\n",
      "        for r in range(d.shape[0]):\n",
      "            _, t = peakfind(d[r, :], n_peaks=n_dim)\n",
      "            obs[:, r] = t.copy()\n",
      "        if i % 10 == 0:\n",
      "            print \"Processed obs %s\"%i\n",
      "        all_obs.append(obs)\n",
      "    for n,i in enumerate(all_obs):\n",
      "        all_obs[n] /= all_obs[n].sum(axis=0)\n",
      "    all_obs = np.atleast_3d(all_obs)\n",
      "\n",
      "from sklearn.cross_validation import train_test_split\n",
      "X_train, X_test, y_train, y_test = train_test_split(all_obs, all_labels, train_size=.8, random_state=0)"
     ],
     "language": "python",
     "metadata": {},
     "outputs": [
      {
       "output_type": "stream",
       "stream": "stdout",
       "text": [
        "Processed obs 0\n",
        "Processed obs 10"
       ]
      },
      {
       "output_type": "stream",
       "stream": "stdout",
       "text": [
        "\n",
        "Processed obs 20"
       ]
      },
      {
       "output_type": "stream",
       "stream": "stdout",
       "text": [
        "\n",
        "Processed obs 30"
       ]
      },
      {
       "output_type": "stream",
       "stream": "stdout",
       "text": [
        "\n",
        "Processed obs 40"
       ]
      },
      {
       "output_type": "stream",
       "stream": "stdout",
       "text": [
        "\n",
        "Processed obs 50"
       ]
      },
      {
       "output_type": "stream",
       "stream": "stdout",
       "text": [
        "\n",
        "Processed obs 60"
       ]
      },
      {
       "output_type": "stream",
       "stream": "stdout",
       "text": [
        "\n",
        "Processed obs 70"
       ]
      },
      {
       "output_type": "stream",
       "stream": "stdout",
       "text": [
        "\n",
        "Processed obs 80"
       ]
      },
      {
       "output_type": "stream",
       "stream": "stdout",
       "text": [
        "\n",
        "Processed obs 90"
       ]
      },
      {
       "output_type": "stream",
       "stream": "stdout",
       "text": [
        "\n",
        "Processed obs 100"
       ]
      },
      {
       "output_type": "stream",
       "stream": "stdout",
       "text": [
        "\n"
       ]
      }
     ],
     "prompt_number": 7
    },
    {
     "cell_type": "code",
     "collapsed": false,
     "input": [
      "import scipy.stats as st\n",
      "import numpy as np\n",
      "\n",
      "\n",
      "class gmhmm:\n",
      "    #This class inspired by (stolen from) https://code.google.com/p/hmm-speech-recognition/source/browse/Word.m\n",
      "    def __init__(self, n_states):\n",
      "        self.n_states = n_states\n",
      "        self.random_state = np.random.RandomState(0)\n",
      "        \n",
      "        #Normalize random initial state\n",
      "        self.prior = self._normalize(self.random_state.rand(self.n_states, 1))\n",
      "        self.A = self._stochasticize(self.random_state.rand(self.n_states, self.n_states))\n",
      "        \n",
      "        self.mu = None\n",
      "        self.covs = None\n",
      "        self.n_dims = None\n",
      "           \n",
      "    def _forward(self, B):\n",
      "        #Starting with a 0 log likelihood seems so wrong...\n",
      "        log_likelihood = 0.\n",
      "        T = B.shape[1]\n",
      "        alpha = np.zeros(B.shape)\n",
      "        for t in range(T):\n",
      "            if t == 0:\n",
      "                alpha[:, t] = B[:, t] * self.prior.ravel()\n",
      "            else:\n",
      "                alpha[:, t] = B[:, t] * np.dot(self.A.T, alpha[:, t - 1])\n",
      "         \n",
      "            alpha_sum = np.sum(alpha[:, t])\n",
      "            alpha[:, t] /= alpha_sum\n",
      "            log_likelihood = log_likelihood + np.log(alpha_sum)\n",
      "        return log_likelihood, alpha\n",
      "    \n",
      "    def _backward(self, B):\n",
      "        T = B.shape[1]\n",
      "        beta = np.zeros(B.shape);\n",
      "           \n",
      "        beta[:, -1] = np.ones(B.shape[0])\n",
      "            \n",
      "        for t in range(T - 1)[::-1]:\n",
      "            beta[:, t] = np.dot(self.A, (B[:, t + 1] * beta[:, t + 1]))\n",
      "            beta[:, t] /= np.sum(beta[:, t])\n",
      "        return beta\n",
      "    \n",
      "    def _state_likelihood(self, obs):\n",
      "        obs = np.atleast_2d(obs)\n",
      "        B = np.zeros((self.n_states, obs.shape[1]))\n",
      "        for s in range(self.n_states):\n",
      "            #Needs scipy 0.14\n",
      "            B[s, :] = st.multivariate_normal.pdf(obs.T, mean=self.mu[:, s].T, cov=self.covs[:, :, s].T)\n",
      "            #This function can (and will!) return values >> 1\n",
      "            #See the discussion here for the equivalent matlab function\n",
      "            #https://groups.google.com/forum/#!topic/comp.soft-sys.matlab/YksWK0T74Ak\n",
      "            #Key line: \"Probabilities have to be less than 1,\n",
      "            #Densities can be anything, even infinite (at individual points).\"\n",
      "            #This is evaluating the density at individual points...\n",
      "        return B\n",
      "    \n",
      "    def _normalize(self, x):\n",
      "        return (x + (x == 0)) / np.sum(x)\n",
      "    \n",
      "    def _stochasticize(self, x):\n",
      "        return (x + (x == 0)) / np.sum(x, axis=1)\n",
      "    \n",
      "    def _em_init(self, obs):\n",
      "        #Using this _em_init function allows for less required constructor args\n",
      "        if self.n_dims is None:\n",
      "            self.n_dims = obs.shape[0]\n",
      "        if self.mu is None:\n",
      "            subset = self.random_state.choice(np.arange(self.n_dims), size=self.n_states, replace=False)\n",
      "            self.mu = obs[:, subset]\n",
      "        if self.covs is None:\n",
      "            self.covs = np.zeros((self.n_dims, self.n_dims, self.n_states))\n",
      "            self.covs += np.diag(np.diag(np.cov(obs)))[:, :, None]\n",
      "        return self\n",
      "    \n",
      "    def _em_step(self, obs): \n",
      "        obs = np.atleast_2d(obs)\n",
      "        B = self._state_likelihood(obs)\n",
      "        T = obs.shape[1]\n",
      "        \n",
      "        log_likelihood, alpha = self._forward(B)\n",
      "        beta = self._backward(B)\n",
      "        \n",
      "        xi_sum = np.zeros((self.n_states, self.n_states))\n",
      "        gamma = np.zeros((self.n_states, T))\n",
      "        \n",
      "        for t in range(T - 1):\n",
      "            partial_sum = self.A * np.dot(alpha[:, t], (beta[:, t] * B[:, t + 1]).T)\n",
      "            xi_sum += self._normalize(partial_sum)\n",
      "            partial_g = alpha[:, t] * beta[:, t]\n",
      "            gamma[:, t] = self._normalize(partial_g)\n",
      "              \n",
      "        partial_g = alpha[:, -1] * beta[:, -1]\n",
      "        gamma[:, -1] = self._normalize(partial_g)\n",
      "        \n",
      "        expected_prior = gamma[:, 0]\n",
      "        expected_A = self._stochasticize(xi_sum)\n",
      "        \n",
      "        expected_mu = np.zeros((self.n_dims, self.n_states))\n",
      "        expected_covs = np.zeros((self.n_dims, self.n_dims, self.n_states))\n",
      "        \n",
      "        gamma_state_sum = np.sum(gamma, axis=1)\n",
      "        #Set zeros to 1 before dividing\n",
      "        gamma_state_sum = gamma_state_sum + (gamma_state_sum == 0)\n",
      "        \n",
      "        for s in range(self.n_states):\n",
      "            gamma_obs = obs * gamma[s, :]\n",
      "            expected_mu[:, s] = np.sum(gamma_obs, axis=1) / gamma_state_sum[s]\n",
      "            partial_covs = np.dot(gamma_obs, obs.T) / gamma_state_sum[s] - np.dot(expected_mu[:, s], expected_mu[:, s].T)\n",
      "            #Symmetrize\n",
      "            partial_covs = np.triu(partial_covs) + np.triu(partial_covs).T - np.diag(partial_covs)\n",
      "        \n",
      "        #Ensure positive semidefinite by adding diagonal loading\n",
      "        expected_covs += .01 * np.eye(self.n_dims)[:, :, None]\n",
      "        \n",
      "        self.prior = expected_prior\n",
      "        self.mu = expected_mu\n",
      "        self.covs = expected_covs\n",
      "        self.A = expected_A\n",
      "        return log_likelihood\n",
      "    \n",
      "    def train(self, obs, n_iter=15):\n",
      "        #Support for 2D and 3D arrays\n",
      "        #2D should be n_features, n_dims\n",
      "        #3D should be n_examples, n_features, n_dims\n",
      "        #For example, with 6 features per speech segment, 105 different words\n",
      "        #this array should be size\n",
      "        #(105, 6, X) where X is the number of frames with features extracted\n",
      "        #For a single example file, the array should be size (6, X)\n",
      "        if len(obs.shape) == 2:\n",
      "            for i in range(n_iter):\n",
      "                self._em_init(obs)\n",
      "                log_likelihood = self._em_step(obs)\n",
      "        elif len(obs.shape) == 3:\n",
      "            count = obs.shape[0]\n",
      "            for n in range(count):\n",
      "                for i in range(n_iter):\n",
      "                    self._em_init(obs[n, :, :])\n",
      "                    log_likelihood = self._em_step(obs[n, :, :])\n",
      "        return self\n",
      "    \n",
      "    def predict(self, obs):\n",
      "        #Support for 2D and 3D arrays\n",
      "        #2D should be n_features, n_dims\n",
      "        #3D should be n_examples, n_features, n_dims\n",
      "        #For example, with 6 features per speech segment, 105 different words\n",
      "        #this array should be size\n",
      "        #(105, 6, X) where X is the number of frames with features extracted\n",
      "        #For a single example file, the array should be size (6, X)\n",
      "        if len(obs.shape) == 2:\n",
      "            B = self._state_likelihood(obs)\n",
      "            log_likelihood, _ = self._forward(B)\n",
      "            return log_likelihood\n",
      "        elif len(obs.shape) == 3:\n",
      "            count = obs.shape[0]\n",
      "            out = np.zeros((count,))\n",
      "            for n in range(count):\n",
      "                B = self._state_likelihood(obs[n, :, :])\n",
      "                log_likelihood, _ = self._forward(B)\n",
      "                out[n] = log_likelihood\n",
      "            return out\n",
      "\n",
      "if __name__ == \"__main__\":\n",
      "    rstate = np.random.RandomState(0)\n",
      "    t1 = np.ones((4, 40)) + .001 * rstate.rand(4, 40)\n",
      "    t1 /= t1.sum(axis=0)\n",
      "    t2 = rstate.rand(*t1.shape)\n",
      "    t2 /= t2.sum(axis=0)\n",
      "    \n",
      "    m1 = gmhmm(2)\n",
      "    m1.train(t1)\n",
      "    m2 = gmhmm(2)\n",
      "    m2.train(t2)\n",
      "    \n",
      "    m1t1 = m1.predict(t1)\n",
      "    m2t1 = m2.predict(t1)\n",
      "    print \"Likelihoods for test set 1\"\n",
      "    print \"M1:\",m1t1\n",
      "    print \"M2:\",m2t1\n",
      "    print \"Prediction for test set 1\"\n",
      "    print \"Model\", np.argmax([m1t1, m2t1]) + 1\n",
      "    print \n",
      "    \n",
      "    m1t2 = m1.predict(t2)\n",
      "    m2t2 = m2.predict(t2)\n",
      "    print \"Likelihoods for test set 2\"\n",
      "    print \"M1:\",m1t2\n",
      "    print \"M2:\",m2t2\n",
      "    print \"Prediction for test set 2\"\n",
      "    print \"Model\", np.argmax([m1t2, m2t2]) + 1"
     ],
     "language": "python",
     "metadata": {},
     "outputs": [
      {
       "output_type": "stream",
       "stream": "stdout",
       "text": [
        "Likelihoods for test set 1\n",
        "M1: 221.388285751\n",
        "M2: 165.272802308\n",
        "Prediction for test set 1\n",
        "Model 1\n",
        "\n",
        "Likelihoods for test set 2\n",
        "M1: 33.1945942149\n",
        "M2: 59.1527475305\n",
        "Prediction for test set 2\n",
        "Model 2\n"
       ]
      }
     ],
     "prompt_number": 23
    },
    {
     "cell_type": "markdown",
     "metadata": {},
     "source": [
      "This is why you always test with the same data used in the original during reimplementation... Frequency peak features don't appear strong enough to support multispeaker prediction, but the GMHMM implementation itself seems OK."
     ]
    },
    {
     "cell_type": "code",
     "collapsed": false,
     "input": [
      "print X_train.shape\n",
      "print X_test.shape"
     ],
     "language": "python",
     "metadata": {},
     "outputs": [
      {
       "output_type": "stream",
       "stream": "stdout",
       "text": [
        "(84, 8, 115)\n",
        "(21, 8, 115)\n"
       ]
      }
     ],
     "prompt_number": 9
    },
    {
     "cell_type": "code",
     "collapsed": false,
     "input": [
      "ys = set(all_labels)\n",
      "ms = [gmhmm(5) for y in ys]\n",
      "_ = [m.train(X_train[y_train == y, :, :]) for m, y in zip(ms, ys)]\n",
      "ps = [m.predict(X_test) for m in ms]\n",
      "res = np.vstack(ps)"
     ],
     "language": "python",
     "metadata": {},
     "outputs": [],
     "prompt_number": 10
    },
    {
     "cell_type": "code",
     "collapsed": false,
     "input": [
      "predicted_labels = np.argmax(res, axis=0)\n",
      "missed = (predicted_labels != y_test)\n",
      "print 'accuracy:%.2f percent'%(100 * (1 - np.sum(missed) / float(y_test.shape[0])))"
     ],
     "language": "python",
     "metadata": {},
     "outputs": [
      {
       "output_type": "stream",
       "stream": "stdout",
       "text": [
        "accuracy:85.71 percent\n"
       ]
      }
     ],
     "prompt_number": 11
    },
    {
     "cell_type": "code",
     "collapsed": false,
     "input": [
      "from sklearn.metrics import confusion_matrix\n",
      "cm = confusion_matrix(y_test, predicted_labels)\n",
      "plt.matshow(cm, cmap='gray')\n",
      "ax = plt.gca()\n",
      "_ = ax.set_xticklabels([\" \"] + [l[:2] for l in spoken])\n",
      "_ = ax.set_yticklabels([\" \"] + spoken)"
     ],
     "language": "python",
     "metadata": {},
     "outputs": [
      {
       "metadata": {},
       "output_type": "display_data",
       "png": "[encoded data removed]",
       "text": [
        "<matplotlib.figure.Figure at 0x7fe472b48050>"
       ]
      }
     ],
     "prompt_number": 12
    },
    {
     "cell_type": "code",
     "collapsed": false,
     "input": [],
     "language": "python",
     "metadata": {},
     "outputs": [],
     "prompt_number": 12
    }
   ],
   "metadata": {}
  }
 ]
}