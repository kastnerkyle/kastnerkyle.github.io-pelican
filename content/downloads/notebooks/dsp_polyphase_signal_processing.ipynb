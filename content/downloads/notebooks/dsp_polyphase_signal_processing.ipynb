{
 "metadata": {
  "name": ""
 },
 "nbformat": 3,
 "nbformat_minor": 0,
 "worksheets": [
  {
   "cells": [
    {
     "cell_type": "markdown",
     "metadata": {},
     "source": [
      "Polyphase Signal Processing\n",
      "===========================\n",
      "\n",
      "Polyphase signal processing is an important technique for efficiently resampling and filtering signals. It can be used to resample and filter a single stream, or as part of a polyphase filterbank, which features evenly spaced \"channels\" of data spaced over a wide bandwitch. It is also a great way to get filtered data at \"rational\" respamplings i.e. $\\frac{4}{3}$, $\\frac{7}{5}$, etc. Though we will only cover the decimating filter in this notebook, it is important to know that similar tricks for reducing computation can be performed for upsampling as well, and the two techniques can also be combined.\n",
      "\n",
      "The general technique of breaking a large bandwidth signal into many smaller streams is often referred to as channelization, which is an absolutely vital operation in RF processing and communications. There are many different approaches to performing this operation, with the polyphase filterbank being perhaps the most popular. This notebook should show all the steps necessary to contruct a polyphase filterbank from the basic ideas of filtering and decimation."
     ]
    },
    {
     "cell_type": "code",
     "collapsed": false,
     "input": [],
     "language": "python",
     "metadata": {},
     "outputs": []
    }
   ],
   "metadata": {}
  }
 ]
}